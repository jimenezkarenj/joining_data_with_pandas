{
 "cells": [
  {
   "cell_type": "markdown",
   "metadata": {},
   "source": [
    "# Data Merging Basics\n",
    "### Joining Data with pandas\n",
    "#### Skill track : Data Analyst\n",
    "#### DataCamp\n",
    "#### Karen Jimenez"
   ]
  },
  {
   "cell_type": "code",
   "execution_count": 1,
   "metadata": {},
   "outputs": [],
   "source": [
    "import pandas as pd\n",
    "import pickle"
   ]
  },
  {
   "cell_type": "markdown",
   "metadata": {},
   "source": [
    "## Your first inner join"
   ]
  },
  {
   "cell_type": "code",
   "execution_count": 2,
   "metadata": {},
   "outputs": [
    {
     "name": "stdout",
     "output_type": "stream",
     "text": [
      "HYBRID                    2792\n",
      "GASOLINE                   611\n",
      "FLEX FUEL                   89\n",
      "COMPRESSED NATURAL GAS      27\n",
      "Name: fuel_type, dtype: int64\n"
     ]
    }
   ],
   "source": [
    "# load data\n",
    "taxi_owners = pickle.load(open(\"data/taxi_owners.p\", \"rb\"))\n",
    "taxi_veh = pickle.load(open(\"data/taxi_vehicles.p\", \"rb\"))\n",
    "\n",
    "# Merge the taxi_owners and taxi_veh tables setting a suffix\n",
    "taxi_own_veh = taxi_owners.merge(taxi_veh, on='vid', suffixes=('_own','_veh'))\n",
    "\n",
    "# Print the value_counts to find the most popular fuel_type\n",
    "print(taxi_own_veh['fuel_type'].value_counts())"
   ]
  },
  {
   "cell_type": "markdown",
   "metadata": {},
   "source": [
    "## Inner joins and number of rows returned"
   ]
  },
  {
   "cell_type": "code",
   "execution_count": 3,
   "metadata": {},
   "outputs": [
    {
     "name": "stdout",
     "output_type": "stream",
     "text": [
      "(50, 9)\n"
     ]
    }
   ],
   "source": [
    "# load data\n",
    "wards = pickle.load(open(\"data/ward.p\", \"rb\"))\n",
    "census = pickle.load(open(\"data/census.p\", \"rb\"))\n",
    "\n",
    "# Merge the wards and census tables on the ward column\n",
    "wards_census = wards.merge(census, on = 'ward')\n",
    "\n",
    "# Print the shape of wards_census\n",
    "print(wards_census.shape)"
   ]
  },
  {
   "cell_type": "code",
   "execution_count": 4,
   "metadata": {},
   "outputs": [
    {
     "name": "stdout",
     "output_type": "stream",
     "text": [
      "(49, 9)\n"
     ]
    }
   ],
   "source": [
    "# In the ward column change '1' to '61'\n",
    "wards.loc[wards['ward'] == '1', 'ward'] = '61'\n",
    "\n",
    "# Merge the wards and census tables on the ward column\n",
    "wards_census = wards.merge(census, on='ward')\n",
    "\n",
    "# Print the shape of wards_census\n",
    "print(wards_census.shape)"
   ]
  },
  {
   "cell_type": "code",
   "execution_count": 5,
   "metadata": {},
   "outputs": [
    {
     "name": "stdout",
     "output_type": "stream",
     "text": [
      "(49, 9)\n"
     ]
    }
   ],
   "source": [
    "# Change '1' to None in `ward` col\n",
    "census.loc[census['ward'] == '1', 'ward'] = None\n",
    "\n",
    "# Merge the wards and census tables on the ward column\n",
    "wards_census = wards.merge(census, on='ward')\n",
    "\n",
    "# Print the shape of wards_census\n",
    "print(wards_census.shape)"
   ]
  },
  {
   "cell_type": "markdown",
   "metadata": {},
   "source": [
    "--- ---"
   ]
  },
  {
   "cell_type": "markdown",
   "metadata": {},
   "source": [
    "_In step 1, the .merge() returned a table with the same number of rows as the original wards table. However, in steps 2 and 3 after altering the ward column in one table but not altering the other, the number of returned rows was fewer. Remember that .merge() only returns rows where the values match in both tables._"
   ]
  },
  {
   "cell_type": "markdown",
   "metadata": {},
   "source": [
    "--- ---"
   ]
  },
  {
   "cell_type": "markdown",
   "metadata": {},
   "source": [
    "## One-to-many merge"
   ]
  },
  {
   "cell_type": "code",
   "execution_count": 6,
   "metadata": {},
   "outputs": [
    {
     "name": "stdout",
     "output_type": "stream",
     "text": [
      "                 account\n",
      "title                   \n",
      "PRESIDENT           6259\n",
      "SECRETARY           5205\n",
      "SOLE PROPRIETOR     1658\n",
      "OTHER               1200\n",
      "VICE PRESIDENT       970\n"
     ]
    }
   ],
   "source": [
    "# load data\n",
    "biz_owners = pickle.load(open(\"data/business_owners.p\", \"rb\"))\n",
    "licenses = pickle.load(open(\"data/licenses.p\", \"rb\"))\n",
    "\n",
    "\n",
    "# Merge the licenses and biz_owners table on account\n",
    "licenses_owners = licenses.merge(biz_owners, on='account')\n",
    "\n",
    "# Group the results by title then count the number of accounts\n",
    "counted_df = licenses_owners.groupby('title').agg({'account':'count'})\n",
    "\n",
    "# Sort the counted_df in desending order\n",
    "sorted_df = counted_df.sort_values(by=['account'], ascending=False)\n",
    "\n",
    "# Use .head() method to print the first few rows of sorted_df\n",
    "print(sorted_df.head())"
   ]
  },
  {
   "cell_type": "markdown",
   "metadata": {},
   "source": [
    "## Total riders in a month"
   ]
  },
  {
   "cell_type": "code",
   "execution_count": 7,
   "metadata": {},
   "outputs": [
    {
     "name": "stdout",
     "output_type": "stream",
     "text": [
      "140005\n"
     ]
    }
   ],
   "source": [
    "# load data\n",
    "cal = pickle.load(open(\"data/cta_calendar.p\", \"rb\"))\n",
    "ridership = pickle.load(open(\"data/cta_ridership.p\", \"rb\"))\n",
    "stations = pickle.load(open(\"data/stations.p\", \"rb\"))\n",
    "\n",
    "\n",
    "# Merge the ridership and cal tables\n",
    "ridership_cal = ridership.merge(cal, on=['year','month','day'])\n",
    "\n",
    "# Merge the ridership, cal, and stations tables\n",
    "ridership_cal_stations = ridership.merge(cal, on=['year','month','day']) \\\n",
    "\t\t\t\t\t\t\t.merge(stations, on='station_id')\n",
    "\n",
    "# Create a filter to filter ridership_cal_stations\n",
    "filter_criteria = ((ridership_cal_stations['month'] == 7) \n",
    "                   & (ridership_cal_stations['day_type'] == 'Weekday') \n",
    "                   & (ridership_cal_stations['station_name'] == 'Wilson'))\n",
    "\n",
    "# Use .loc and the filter to select for rides\n",
    "print(ridership_cal_stations.loc[filter_criteria, 'rides'].sum())"
   ]
  },
  {
   "cell_type": "markdown",
   "metadata": {},
   "source": [
    "## Three table merge"
   ]
  },
  {
   "cell_type": "code",
   "execution_count": 12,
   "metadata": {},
   "outputs": [
    {
     "name": "stdout",
     "output_type": "stream",
     "text": [
      "                           income\n",
      "alderman                         \n",
      "Ameya Pawar                 66246\n",
      "Anthony A. Beale            38206\n",
      "Anthony V. Napolitano       82226\n",
      "Ariel E. Reyboras           41307\n",
      "Brendan Reilly             110215\n",
      "Brian Hopkins               87143\n",
      "Carlos Ramirez-Rosa         66246\n",
      "Carrie M. Austin            38206\n",
      "Chris Taliaferro            55566\n",
      "Daniel \"Danny\" Solis        41226\n",
      "David H. Moore              33304\n",
      "Deborah Mell                66246\n",
      "Debra L. Silverstein        50554\n",
      "Derrick G. Curtis           65770\n",
      "Edward M. Burke             42335\n",
      "Emma M. Mitts               36283\n",
      "George Cardenas             33959\n",
      "Gilbert Villegas            41307\n",
      "Gregory I. Mitchell         24941\n",
      "Harry Osterman              45442\n",
      "Howard B. Brookins, Jr.     33304\n",
      "James Cappleman             79565\n",
      "Jason C. Ervin              41226\n",
      "Joe Moore                   39163\n",
      "John S. Arena               70122\n",
      "Leslie A. Hairston          28024\n",
      "Margaret Laurino            70122\n",
      "Marty Quinn                 67045\n",
      "Matthew J. O'Shea           59488\n",
      "Michael R. Zalewski         42335\n",
      "Michael Scott, Jr.          31445\n",
      "Michelle A. Harris          32558\n",
      "Michelle Smith             100116\n",
      "Milagros \"Milly\" Santiago   41307\n",
      "Nicholas Sposato            62223\n",
      "Pat Dowell                  46340\n",
      "Patrick Daley Thompson      41226\n",
      "Patrick J. O'Connor         50554\n",
      "Raymond A. Lopez            33959\n",
      "Ricardo Munoz               31445\n",
      "Roberto Maldonado           68223\n",
      "Roderick T. Sawyer          32558\n",
      "Scott Waguespack            68223\n",
      "Susan Sadlowski Garza       38417\n",
      "Tom Tunney                  88708\n",
      "Toni L. Foulkes             27573\n",
      "Walter Burnett, Jr.         87143\n",
      "William D. Burns           107811\n",
      "Willie B. Cochran           28024\n"
     ]
    }
   ],
   "source": [
    "# load data\n",
    "zip_demo = pickle.load(open(\"data/zip_demo.p\", \"rb\"))\n",
    "\n",
    "# Merge licenses and zip_demo, on zip; and merge the wards on ward\n",
    "licenses_zip_ward = licenses.merge(zip_demo, on = 'zip') \\\n",
    "            \t\t\t.merge(wards, on = 'ward')\n",
    "\n",
    "# Print the results by alderman and show median income\n",
    "print(licenses_zip_ward.groupby('alderman').agg({'income':'median'}))"
   ]
  },
  {
   "cell_type": "markdown",
   "metadata": {},
   "source": [
    "## One-to-many merge with multiple tables"
   ]
  },
  {
   "cell_type": "code",
   "execution_count": 17,
   "metadata": {},
   "outputs": [
    {
     "name": "stdout",
     "output_type": "stream",
     "text": [
      "   ward  pop_2010  vacant  account\n",
      "46    7     51581      19       80\n",
      "11   20     52372      15      123\n",
      "0    10     51535      14      130\n",
      "15   24     54909      13       98\n",
      "6    16     51954      13      156\n"
     ]
    }
   ],
   "source": [
    "# load data\n",
    "land_use = pickle.load(open(\"data/land_use.p\", \"rb\"))\n",
    "\n",
    "# Merge land_use and census and merge result with licenses including suffixes\n",
    "land_cen_lic = land_use.merge(census, on='ward') \\\n",
    "                    .merge(licenses, on='ward', suffixes=('_cen','_lic'))\n",
    "\n",
    "# Group by ward, pop_2010, and vacant, then count the # of accounts\n",
    "pop_vac_lic = land_cen_lic.groupby(['ward','pop_2010','vacant'], \n",
    "                                   as_index=False).agg({'account':'count'})\n",
    "\n",
    "# Sort pop_vac_lic and print the results\n",
    "sorted_pop_vac_lic = pop_vac_lic.sort_values(['vacant', 'account', 'pop_2010'], \n",
    "                                             ascending=[False, True, True])\n",
    "\n",
    "# Print the top few rows of sorted_pop_vac_lic\n",
    "print(sorted_pop_vac_lic.head())"
   ]
  }
 ],
 "metadata": {
  "kernelspec": {
   "display_name": "Python 3",
   "language": "python",
   "name": "python3"
  },
  "language_info": {
   "codemirror_mode": {
    "name": "ipython",
    "version": 3
   },
   "file_extension": ".py",
   "mimetype": "text/x-python",
   "name": "python",
   "nbconvert_exporter": "python",
   "pygments_lexer": "ipython3",
   "version": "3.7.7"
  }
 },
 "nbformat": 4,
 "nbformat_minor": 4
}
